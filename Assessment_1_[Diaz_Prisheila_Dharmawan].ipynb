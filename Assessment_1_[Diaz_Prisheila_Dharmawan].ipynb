{
  "nbformat": 4,
  "nbformat_minor": 0,
  "metadata": {
    "colab": {
      "provenance": [],
      "authorship_tag": "ABX9TyMMQYDL+JbmOFx4qwiI4PvU",
      "include_colab_link": true
    },
    "kernelspec": {
      "name": "python3",
      "display_name": "Python 3"
    },
    "language_info": {
      "name": "python"
    }
  },
  "cells": [
    {
      "cell_type": "markdown",
      "metadata": {
        "id": "view-in-github",
        "colab_type": "text"
      },
      "source": [
        "<a href=\"https://colab.research.google.com/github/DiazPrisheilaDharmawan/DataAnalystics-Zenius/blob/main/Assessment_1_%5BDiaz_Prisheila_Dharmawan%5D.ipynb\" target=\"_parent\"><img src=\"https://colab.research.google.com/assets/colab-badge.svg\" alt=\"Open In Colab\"/></a>"
      ]
    },
    {
      "cell_type": "markdown",
      "source": [
        "# Preparation"
      ],
      "metadata": {
        "id": "HHZHR6ocpJ_I"
      }
    },
    {
      "cell_type": "code",
      "source": [
        "# Library yang dipakai\n",
        "import pandas as pd   # membaca dan menulis data dari file CSV, Excel, SQL, dll\n",
        "import numpy as np    # mengelola data\n",
        "import matplotlib.pyplot as plt   # membuat plot dan visualisasi\n",
        "import seaborn as sns # membuat plot dan visualisasi"
      ],
      "metadata": {
        "id": "5eovmG44k4se"
      },
      "execution_count": null,
      "outputs": []
    },
    {
      "cell_type": "code",
      "source": [
        "# Membaca dataset dari url/link\n",
        "df = pd.read_csv(\"https://raw.githubusercontent.com/dataenergy/Exploratory-data-analysis-of-climate-change-and-natural-disasters/master/datasets/economic-damage-from-natural-disasters.csv\")"
      ],
      "metadata": {
        "id": "TiY7TAMtlCEx"
      },
      "execution_count": null,
      "outputs": []
    },
    {
      "cell_type": "code",
      "source": [
        "# Menampilkan dataset\n",
        "df"
      ],
      "metadata": {
        "colab": {
          "base_uri": "https://localhost:8080/",
          "height": 424
        },
        "id": "-_-ZkqjGm7Pn",
        "outputId": "60b3765c-926a-4966-ba51-216c8dbdc7a5"
      },
      "execution_count": null,
      "outputs": [
        {
          "output_type": "execute_result",
          "data": {
            "text/plain": [
              "                    Entity  Code  Year  \\\n",
              "0    All natural disasters   NaN  1900   \n",
              "1    All natural disasters   NaN  1901   \n",
              "2    All natural disasters   NaN  1902   \n",
              "3    All natural disasters   NaN  1903   \n",
              "4    All natural disasters   NaN  1904   \n",
              "..                     ...   ...   ...   \n",
              "556               Wildfire   NaN  2014   \n",
              "557               Wildfire   NaN  2015   \n",
              "558               Wildfire   NaN  2016   \n",
              "559               Wildfire   NaN  2017   \n",
              "560               Wildfire   NaN  2018   \n",
              "\n",
              "     Total economic damage from natural disasters (US$)  \n",
              "0                                             30000000   \n",
              "1                                                    0   \n",
              "2                                                    0   \n",
              "3                                            480000000   \n",
              "4                                                    0   \n",
              "..                                                 ...   \n",
              "556                                          259000000   \n",
              "557                                         3439820000   \n",
              "558                                         6287000000   \n",
              "559                                         1019000000   \n",
              "560                                        22745000000   \n",
              "\n",
              "[561 rows x 4 columns]"
            ],
            "text/html": [
              "\n",
              "  <div id=\"df-5dc96701-82ac-435f-932d-53b2649d1ee2\" class=\"colab-df-container\">\n",
              "    <div>\n",
              "<style scoped>\n",
              "    .dataframe tbody tr th:only-of-type {\n",
              "        vertical-align: middle;\n",
              "    }\n",
              "\n",
              "    .dataframe tbody tr th {\n",
              "        vertical-align: top;\n",
              "    }\n",
              "\n",
              "    .dataframe thead th {\n",
              "        text-align: right;\n",
              "    }\n",
              "</style>\n",
              "<table border=\"1\" class=\"dataframe\">\n",
              "  <thead>\n",
              "    <tr style=\"text-align: right;\">\n",
              "      <th></th>\n",
              "      <th>Entity</th>\n",
              "      <th>Code</th>\n",
              "      <th>Year</th>\n",
              "      <th>Total economic damage from natural disasters (US$)</th>\n",
              "    </tr>\n",
              "  </thead>\n",
              "  <tbody>\n",
              "    <tr>\n",
              "      <th>0</th>\n",
              "      <td>All natural disasters</td>\n",
              "      <td>NaN</td>\n",
              "      <td>1900</td>\n",
              "      <td>30000000</td>\n",
              "    </tr>\n",
              "    <tr>\n",
              "      <th>1</th>\n",
              "      <td>All natural disasters</td>\n",
              "      <td>NaN</td>\n",
              "      <td>1901</td>\n",
              "      <td>0</td>\n",
              "    </tr>\n",
              "    <tr>\n",
              "      <th>2</th>\n",
              "      <td>All natural disasters</td>\n",
              "      <td>NaN</td>\n",
              "      <td>1902</td>\n",
              "      <td>0</td>\n",
              "    </tr>\n",
              "    <tr>\n",
              "      <th>3</th>\n",
              "      <td>All natural disasters</td>\n",
              "      <td>NaN</td>\n",
              "      <td>1903</td>\n",
              "      <td>480000000</td>\n",
              "    </tr>\n",
              "    <tr>\n",
              "      <th>4</th>\n",
              "      <td>All natural disasters</td>\n",
              "      <td>NaN</td>\n",
              "      <td>1904</td>\n",
              "      <td>0</td>\n",
              "    </tr>\n",
              "    <tr>\n",
              "      <th>...</th>\n",
              "      <td>...</td>\n",
              "      <td>...</td>\n",
              "      <td>...</td>\n",
              "      <td>...</td>\n",
              "    </tr>\n",
              "    <tr>\n",
              "      <th>556</th>\n",
              "      <td>Wildfire</td>\n",
              "      <td>NaN</td>\n",
              "      <td>2014</td>\n",
              "      <td>259000000</td>\n",
              "    </tr>\n",
              "    <tr>\n",
              "      <th>557</th>\n",
              "      <td>Wildfire</td>\n",
              "      <td>NaN</td>\n",
              "      <td>2015</td>\n",
              "      <td>3439820000</td>\n",
              "    </tr>\n",
              "    <tr>\n",
              "      <th>558</th>\n",
              "      <td>Wildfire</td>\n",
              "      <td>NaN</td>\n",
              "      <td>2016</td>\n",
              "      <td>6287000000</td>\n",
              "    </tr>\n",
              "    <tr>\n",
              "      <th>559</th>\n",
              "      <td>Wildfire</td>\n",
              "      <td>NaN</td>\n",
              "      <td>2017</td>\n",
              "      <td>1019000000</td>\n",
              "    </tr>\n",
              "    <tr>\n",
              "      <th>560</th>\n",
              "      <td>Wildfire</td>\n",
              "      <td>NaN</td>\n",
              "      <td>2018</td>\n",
              "      <td>22745000000</td>\n",
              "    </tr>\n",
              "  </tbody>\n",
              "</table>\n",
              "<p>561 rows × 4 columns</p>\n",
              "</div>\n",
              "    <div class=\"colab-df-buttons\">\n",
              "\n",
              "  <div class=\"colab-df-container\">\n",
              "    <button class=\"colab-df-convert\" onclick=\"convertToInteractive('df-5dc96701-82ac-435f-932d-53b2649d1ee2')\"\n",
              "            title=\"Convert this dataframe to an interactive table.\"\n",
              "            style=\"display:none;\">\n",
              "\n",
              "  <svg xmlns=\"http://www.w3.org/2000/svg\" height=\"24px\" viewBox=\"0 -960 960 960\">\n",
              "    <path d=\"M120-120v-720h720v720H120Zm60-500h600v-160H180v160Zm220 220h160v-160H400v160Zm0 220h160v-160H400v160ZM180-400h160v-160H180v160Zm440 0h160v-160H620v160ZM180-180h160v-160H180v160Zm440 0h160v-160H620v160Z\"/>\n",
              "  </svg>\n",
              "    </button>\n",
              "\n",
              "  <style>\n",
              "    .colab-df-container {\n",
              "      display:flex;\n",
              "      gap: 12px;\n",
              "    }\n",
              "\n",
              "    .colab-df-convert {\n",
              "      background-color: #E8F0FE;\n",
              "      border: none;\n",
              "      border-radius: 50%;\n",
              "      cursor: pointer;\n",
              "      display: none;\n",
              "      fill: #1967D2;\n",
              "      height: 32px;\n",
              "      padding: 0 0 0 0;\n",
              "      width: 32px;\n",
              "    }\n",
              "\n",
              "    .colab-df-convert:hover {\n",
              "      background-color: #E2EBFA;\n",
              "      box-shadow: 0px 1px 2px rgba(60, 64, 67, 0.3), 0px 1px 3px 1px rgba(60, 64, 67, 0.15);\n",
              "      fill: #174EA6;\n",
              "    }\n",
              "\n",
              "    .colab-df-buttons div {\n",
              "      margin-bottom: 4px;\n",
              "    }\n",
              "\n",
              "    [theme=dark] .colab-df-convert {\n",
              "      background-color: #3B4455;\n",
              "      fill: #D2E3FC;\n",
              "    }\n",
              "\n",
              "    [theme=dark] .colab-df-convert:hover {\n",
              "      background-color: #434B5C;\n",
              "      box-shadow: 0px 1px 3px 1px rgba(0, 0, 0, 0.15);\n",
              "      filter: drop-shadow(0px 1px 2px rgba(0, 0, 0, 0.3));\n",
              "      fill: #FFFFFF;\n",
              "    }\n",
              "  </style>\n",
              "\n",
              "    <script>\n",
              "      const buttonEl =\n",
              "        document.querySelector('#df-5dc96701-82ac-435f-932d-53b2649d1ee2 button.colab-df-convert');\n",
              "      buttonEl.style.display =\n",
              "        google.colab.kernel.accessAllowed ? 'block' : 'none';\n",
              "\n",
              "      async function convertToInteractive(key) {\n",
              "        const element = document.querySelector('#df-5dc96701-82ac-435f-932d-53b2649d1ee2');\n",
              "        const dataTable =\n",
              "          await google.colab.kernel.invokeFunction('convertToInteractive',\n",
              "                                                    [key], {});\n",
              "        if (!dataTable) return;\n",
              "\n",
              "        const docLinkHtml = 'Like what you see? Visit the ' +\n",
              "          '<a target=\"_blank\" href=https://colab.research.google.com/notebooks/data_table.ipynb>data table notebook</a>'\n",
              "          + ' to learn more about interactive tables.';\n",
              "        element.innerHTML = '';\n",
              "        dataTable['output_type'] = 'display_data';\n",
              "        await google.colab.output.renderOutput(dataTable, element);\n",
              "        const docLink = document.createElement('div');\n",
              "        docLink.innerHTML = docLinkHtml;\n",
              "        element.appendChild(docLink);\n",
              "      }\n",
              "    </script>\n",
              "  </div>\n",
              "\n",
              "\n",
              "<div id=\"df-630ca049-ea8a-4f9d-96d5-2ebb0159d97e\">\n",
              "  <button class=\"colab-df-quickchart\" onclick=\"quickchart('df-630ca049-ea8a-4f9d-96d5-2ebb0159d97e')\"\n",
              "            title=\"Suggest charts\"\n",
              "            style=\"display:none;\">\n",
              "\n",
              "<svg xmlns=\"http://www.w3.org/2000/svg\" height=\"24px\"viewBox=\"0 0 24 24\"\n",
              "     width=\"24px\">\n",
              "    <g>\n",
              "        <path d=\"M19 3H5c-1.1 0-2 .9-2 2v14c0 1.1.9 2 2 2h14c1.1 0 2-.9 2-2V5c0-1.1-.9-2-2-2zM9 17H7v-7h2v7zm4 0h-2V7h2v10zm4 0h-2v-4h2v4z\"/>\n",
              "    </g>\n",
              "</svg>\n",
              "  </button>\n",
              "\n",
              "<style>\n",
              "  .colab-df-quickchart {\n",
              "      --bg-color: #E8F0FE;\n",
              "      --fill-color: #1967D2;\n",
              "      --hover-bg-color: #E2EBFA;\n",
              "      --hover-fill-color: #174EA6;\n",
              "      --disabled-fill-color: #AAA;\n",
              "      --disabled-bg-color: #DDD;\n",
              "  }\n",
              "\n",
              "  [theme=dark] .colab-df-quickchart {\n",
              "      --bg-color: #3B4455;\n",
              "      --fill-color: #D2E3FC;\n",
              "      --hover-bg-color: #434B5C;\n",
              "      --hover-fill-color: #FFFFFF;\n",
              "      --disabled-bg-color: #3B4455;\n",
              "      --disabled-fill-color: #666;\n",
              "  }\n",
              "\n",
              "  .colab-df-quickchart {\n",
              "    background-color: var(--bg-color);\n",
              "    border: none;\n",
              "    border-radius: 50%;\n",
              "    cursor: pointer;\n",
              "    display: none;\n",
              "    fill: var(--fill-color);\n",
              "    height: 32px;\n",
              "    padding: 0;\n",
              "    width: 32px;\n",
              "  }\n",
              "\n",
              "  .colab-df-quickchart:hover {\n",
              "    background-color: var(--hover-bg-color);\n",
              "    box-shadow: 0 1px 2px rgba(60, 64, 67, 0.3), 0 1px 3px 1px rgba(60, 64, 67, 0.15);\n",
              "    fill: var(--button-hover-fill-color);\n",
              "  }\n",
              "\n",
              "  .colab-df-quickchart-complete:disabled,\n",
              "  .colab-df-quickchart-complete:disabled:hover {\n",
              "    background-color: var(--disabled-bg-color);\n",
              "    fill: var(--disabled-fill-color);\n",
              "    box-shadow: none;\n",
              "  }\n",
              "\n",
              "  .colab-df-spinner {\n",
              "    border: 2px solid var(--fill-color);\n",
              "    border-color: transparent;\n",
              "    border-bottom-color: var(--fill-color);\n",
              "    animation:\n",
              "      spin 1s steps(1) infinite;\n",
              "  }\n",
              "\n",
              "  @keyframes spin {\n",
              "    0% {\n",
              "      border-color: transparent;\n",
              "      border-bottom-color: var(--fill-color);\n",
              "      border-left-color: var(--fill-color);\n",
              "    }\n",
              "    20% {\n",
              "      border-color: transparent;\n",
              "      border-left-color: var(--fill-color);\n",
              "      border-top-color: var(--fill-color);\n",
              "    }\n",
              "    30% {\n",
              "      border-color: transparent;\n",
              "      border-left-color: var(--fill-color);\n",
              "      border-top-color: var(--fill-color);\n",
              "      border-right-color: var(--fill-color);\n",
              "    }\n",
              "    40% {\n",
              "      border-color: transparent;\n",
              "      border-right-color: var(--fill-color);\n",
              "      border-top-color: var(--fill-color);\n",
              "    }\n",
              "    60% {\n",
              "      border-color: transparent;\n",
              "      border-right-color: var(--fill-color);\n",
              "    }\n",
              "    80% {\n",
              "      border-color: transparent;\n",
              "      border-right-color: var(--fill-color);\n",
              "      border-bottom-color: var(--fill-color);\n",
              "    }\n",
              "    90% {\n",
              "      border-color: transparent;\n",
              "      border-bottom-color: var(--fill-color);\n",
              "    }\n",
              "  }\n",
              "</style>\n",
              "\n",
              "  <script>\n",
              "    async function quickchart(key) {\n",
              "      const quickchartButtonEl =\n",
              "        document.querySelector('#' + key + ' button');\n",
              "      quickchartButtonEl.disabled = true;  // To prevent multiple clicks.\n",
              "      quickchartButtonEl.classList.add('colab-df-spinner');\n",
              "      try {\n",
              "        const charts = await google.colab.kernel.invokeFunction(\n",
              "            'suggestCharts', [key], {});\n",
              "      } catch (error) {\n",
              "        console.error('Error during call to suggestCharts:', error);\n",
              "      }\n",
              "      quickchartButtonEl.classList.remove('colab-df-spinner');\n",
              "      quickchartButtonEl.classList.add('colab-df-quickchart-complete');\n",
              "    }\n",
              "    (() => {\n",
              "      let quickchartButtonEl =\n",
              "        document.querySelector('#df-630ca049-ea8a-4f9d-96d5-2ebb0159d97e button');\n",
              "      quickchartButtonEl.style.display =\n",
              "        google.colab.kernel.accessAllowed ? 'block' : 'none';\n",
              "    })();\n",
              "  </script>\n",
              "</div>\n",
              "    </div>\n",
              "  </div>\n"
            ]
          },
          "metadata": {},
          "execution_count": 3
        }
      ]
    },
    {
      "cell_type": "code",
      "source": [
        "# Memisahkan variabel categorical dan numerical\n",
        "numerical_vars = df.select_dtypes(include='number').columns\n",
        "categorical_vars = df.select_dtypes(include='object').columns\n",
        "\n",
        "print(\"Variabel Categorical:\\n\", categorical_vars)\n",
        "print(\"\\nVariabel Numerical:\\n\", numerical_vars)"
      ],
      "metadata": {
        "colab": {
          "base_uri": "https://localhost:8080/"
        },
        "id": "tQMJyKCDIbNX",
        "outputId": "f1100633-f260-4809-89be-4fd7ff9377d1"
      },
      "execution_count": null,
      "outputs": [
        {
          "output_type": "stream",
          "name": "stdout",
          "text": [
            "Variabel Categorical:\n",
            " Index(['Entity'], dtype='object')\n",
            "\n",
            "Variabel Numerical:\n",
            " Index(['Code', 'Year', 'Total economic damage from natural disasters (US$)'], dtype='object')\n"
          ]
        }
      ]
    },
    {
      "cell_type": "code",
      "source": [
        "# Memunculkan data variabel categorical\n",
        "var_cat = df[[\"Entity\"]]\n",
        "var_cat"
      ],
      "metadata": {
        "colab": {
          "base_uri": "https://localhost:8080/",
          "height": 424
        },
        "id": "peF66yyKrltZ",
        "outputId": "5e53cfb0-53af-4cc8-ce82-60b24791aa54"
      },
      "execution_count": null,
      "outputs": [
        {
          "output_type": "execute_result",
          "data": {
            "text/plain": [
              "                    Entity\n",
              "0    All natural disasters\n",
              "1    All natural disasters\n",
              "2    All natural disasters\n",
              "3    All natural disasters\n",
              "4    All natural disasters\n",
              "..                     ...\n",
              "556               Wildfire\n",
              "557               Wildfire\n",
              "558               Wildfire\n",
              "559               Wildfire\n",
              "560               Wildfire\n",
              "\n",
              "[561 rows x 1 columns]"
            ],
            "text/html": [
              "\n",
              "  <div id=\"df-da10a763-feed-4786-be82-e692a854f6df\" class=\"colab-df-container\">\n",
              "    <div>\n",
              "<style scoped>\n",
              "    .dataframe tbody tr th:only-of-type {\n",
              "        vertical-align: middle;\n",
              "    }\n",
              "\n",
              "    .dataframe tbody tr th {\n",
              "        vertical-align: top;\n",
              "    }\n",
              "\n",
              "    .dataframe thead th {\n",
              "        text-align: right;\n",
              "    }\n",
              "</style>\n",
              "<table border=\"1\" class=\"dataframe\">\n",
              "  <thead>\n",
              "    <tr style=\"text-align: right;\">\n",
              "      <th></th>\n",
              "      <th>Entity</th>\n",
              "    </tr>\n",
              "  </thead>\n",
              "  <tbody>\n",
              "    <tr>\n",
              "      <th>0</th>\n",
              "      <td>All natural disasters</td>\n",
              "    </tr>\n",
              "    <tr>\n",
              "      <th>1</th>\n",
              "      <td>All natural disasters</td>\n",
              "    </tr>\n",
              "    <tr>\n",
              "      <th>2</th>\n",
              "      <td>All natural disasters</td>\n",
              "    </tr>\n",
              "    <tr>\n",
              "      <th>3</th>\n",
              "      <td>All natural disasters</td>\n",
              "    </tr>\n",
              "    <tr>\n",
              "      <th>4</th>\n",
              "      <td>All natural disasters</td>\n",
              "    </tr>\n",
              "    <tr>\n",
              "      <th>...</th>\n",
              "      <td>...</td>\n",
              "    </tr>\n",
              "    <tr>\n",
              "      <th>556</th>\n",
              "      <td>Wildfire</td>\n",
              "    </tr>\n",
              "    <tr>\n",
              "      <th>557</th>\n",
              "      <td>Wildfire</td>\n",
              "    </tr>\n",
              "    <tr>\n",
              "      <th>558</th>\n",
              "      <td>Wildfire</td>\n",
              "    </tr>\n",
              "    <tr>\n",
              "      <th>559</th>\n",
              "      <td>Wildfire</td>\n",
              "    </tr>\n",
              "    <tr>\n",
              "      <th>560</th>\n",
              "      <td>Wildfire</td>\n",
              "    </tr>\n",
              "  </tbody>\n",
              "</table>\n",
              "<p>561 rows × 1 columns</p>\n",
              "</div>\n",
              "    <div class=\"colab-df-buttons\">\n",
              "\n",
              "  <div class=\"colab-df-container\">\n",
              "    <button class=\"colab-df-convert\" onclick=\"convertToInteractive('df-da10a763-feed-4786-be82-e692a854f6df')\"\n",
              "            title=\"Convert this dataframe to an interactive table.\"\n",
              "            style=\"display:none;\">\n",
              "\n",
              "  <svg xmlns=\"http://www.w3.org/2000/svg\" height=\"24px\" viewBox=\"0 -960 960 960\">\n",
              "    <path d=\"M120-120v-720h720v720H120Zm60-500h600v-160H180v160Zm220 220h160v-160H400v160Zm0 220h160v-160H400v160ZM180-400h160v-160H180v160Zm440 0h160v-160H620v160ZM180-180h160v-160H180v160Zm440 0h160v-160H620v160Z\"/>\n",
              "  </svg>\n",
              "    </button>\n",
              "\n",
              "  <style>\n",
              "    .colab-df-container {\n",
              "      display:flex;\n",
              "      gap: 12px;\n",
              "    }\n",
              "\n",
              "    .colab-df-convert {\n",
              "      background-color: #E8F0FE;\n",
              "      border: none;\n",
              "      border-radius: 50%;\n",
              "      cursor: pointer;\n",
              "      display: none;\n",
              "      fill: #1967D2;\n",
              "      height: 32px;\n",
              "      padding: 0 0 0 0;\n",
              "      width: 32px;\n",
              "    }\n",
              "\n",
              "    .colab-df-convert:hover {\n",
              "      background-color: #E2EBFA;\n",
              "      box-shadow: 0px 1px 2px rgba(60, 64, 67, 0.3), 0px 1px 3px 1px rgba(60, 64, 67, 0.15);\n",
              "      fill: #174EA6;\n",
              "    }\n",
              "\n",
              "    .colab-df-buttons div {\n",
              "      margin-bottom: 4px;\n",
              "    }\n",
              "\n",
              "    [theme=dark] .colab-df-convert {\n",
              "      background-color: #3B4455;\n",
              "      fill: #D2E3FC;\n",
              "    }\n",
              "\n",
              "    [theme=dark] .colab-df-convert:hover {\n",
              "      background-color: #434B5C;\n",
              "      box-shadow: 0px 1px 3px 1px rgba(0, 0, 0, 0.15);\n",
              "      filter: drop-shadow(0px 1px 2px rgba(0, 0, 0, 0.3));\n",
              "      fill: #FFFFFF;\n",
              "    }\n",
              "  </style>\n",
              "\n",
              "    <script>\n",
              "      const buttonEl =\n",
              "        document.querySelector('#df-da10a763-feed-4786-be82-e692a854f6df button.colab-df-convert');\n",
              "      buttonEl.style.display =\n",
              "        google.colab.kernel.accessAllowed ? 'block' : 'none';\n",
              "\n",
              "      async function convertToInteractive(key) {\n",
              "        const element = document.querySelector('#df-da10a763-feed-4786-be82-e692a854f6df');\n",
              "        const dataTable =\n",
              "          await google.colab.kernel.invokeFunction('convertToInteractive',\n",
              "                                                    [key], {});\n",
              "        if (!dataTable) return;\n",
              "\n",
              "        const docLinkHtml = 'Like what you see? Visit the ' +\n",
              "          '<a target=\"_blank\" href=https://colab.research.google.com/notebooks/data_table.ipynb>data table notebook</a>'\n",
              "          + ' to learn more about interactive tables.';\n",
              "        element.innerHTML = '';\n",
              "        dataTable['output_type'] = 'display_data';\n",
              "        await google.colab.output.renderOutput(dataTable, element);\n",
              "        const docLink = document.createElement('div');\n",
              "        docLink.innerHTML = docLinkHtml;\n",
              "        element.appendChild(docLink);\n",
              "      }\n",
              "    </script>\n",
              "  </div>\n",
              "\n",
              "\n",
              "<div id=\"df-75e3718f-b075-4ca0-9eea-304ba5f2c37e\">\n",
              "  <button class=\"colab-df-quickchart\" onclick=\"quickchart('df-75e3718f-b075-4ca0-9eea-304ba5f2c37e')\"\n",
              "            title=\"Suggest charts.\"\n",
              "            style=\"display:none;\">\n",
              "\n",
              "<svg xmlns=\"http://www.w3.org/2000/svg\" height=\"24px\"viewBox=\"0 0 24 24\"\n",
              "     width=\"24px\">\n",
              "    <g>\n",
              "        <path d=\"M19 3H5c-1.1 0-2 .9-2 2v14c0 1.1.9 2 2 2h14c1.1 0 2-.9 2-2V5c0-1.1-.9-2-2-2zM9 17H7v-7h2v7zm4 0h-2V7h2v10zm4 0h-2v-4h2v4z\"/>\n",
              "    </g>\n",
              "</svg>\n",
              "  </button>\n",
              "\n",
              "<style>\n",
              "  .colab-df-quickchart {\n",
              "      --bg-color: #E8F0FE;\n",
              "      --fill-color: #1967D2;\n",
              "      --hover-bg-color: #E2EBFA;\n",
              "      --hover-fill-color: #174EA6;\n",
              "      --disabled-fill-color: #AAA;\n",
              "      --disabled-bg-color: #DDD;\n",
              "  }\n",
              "\n",
              "  [theme=dark] .colab-df-quickchart {\n",
              "      --bg-color: #3B4455;\n",
              "      --fill-color: #D2E3FC;\n",
              "      --hover-bg-color: #434B5C;\n",
              "      --hover-fill-color: #FFFFFF;\n",
              "      --disabled-bg-color: #3B4455;\n",
              "      --disabled-fill-color: #666;\n",
              "  }\n",
              "\n",
              "  .colab-df-quickchart {\n",
              "    background-color: var(--bg-color);\n",
              "    border: none;\n",
              "    border-radius: 50%;\n",
              "    cursor: pointer;\n",
              "    display: none;\n",
              "    fill: var(--fill-color);\n",
              "    height: 32px;\n",
              "    padding: 0;\n",
              "    width: 32px;\n",
              "  }\n",
              "\n",
              "  .colab-df-quickchart:hover {\n",
              "    background-color: var(--hover-bg-color);\n",
              "    box-shadow: 0 1px 2px rgba(60, 64, 67, 0.3), 0 1px 3px 1px rgba(60, 64, 67, 0.15);\n",
              "    fill: var(--button-hover-fill-color);\n",
              "  }\n",
              "\n",
              "  .colab-df-quickchart-complete:disabled,\n",
              "  .colab-df-quickchart-complete:disabled:hover {\n",
              "    background-color: var(--disabled-bg-color);\n",
              "    fill: var(--disabled-fill-color);\n",
              "    box-shadow: none;\n",
              "  }\n",
              "\n",
              "  .colab-df-spinner {\n",
              "    border: 2px solid var(--fill-color);\n",
              "    border-color: transparent;\n",
              "    border-bottom-color: var(--fill-color);\n",
              "    animation:\n",
              "      spin 1s steps(1) infinite;\n",
              "  }\n",
              "\n",
              "  @keyframes spin {\n",
              "    0% {\n",
              "      border-color: transparent;\n",
              "      border-bottom-color: var(--fill-color);\n",
              "      border-left-color: var(--fill-color);\n",
              "    }\n",
              "    20% {\n",
              "      border-color: transparent;\n",
              "      border-left-color: var(--fill-color);\n",
              "      border-top-color: var(--fill-color);\n",
              "    }\n",
              "    30% {\n",
              "      border-color: transparent;\n",
              "      border-left-color: var(--fill-color);\n",
              "      border-top-color: var(--fill-color);\n",
              "      border-right-color: var(--fill-color);\n",
              "    }\n",
              "    40% {\n",
              "      border-color: transparent;\n",
              "      border-right-color: var(--fill-color);\n",
              "      border-top-color: var(--fill-color);\n",
              "    }\n",
              "    60% {\n",
              "      border-color: transparent;\n",
              "      border-right-color: var(--fill-color);\n",
              "    }\n",
              "    80% {\n",
              "      border-color: transparent;\n",
              "      border-right-color: var(--fill-color);\n",
              "      border-bottom-color: var(--fill-color);\n",
              "    }\n",
              "    90% {\n",
              "      border-color: transparent;\n",
              "      border-bottom-color: var(--fill-color);\n",
              "    }\n",
              "  }\n",
              "</style>\n",
              "\n",
              "  <script>\n",
              "    async function quickchart(key) {\n",
              "      const quickchartButtonEl =\n",
              "        document.querySelector('#' + key + ' button');\n",
              "      quickchartButtonEl.disabled = true;  // To prevent multiple clicks.\n",
              "      quickchartButtonEl.classList.add('colab-df-spinner');\n",
              "      try {\n",
              "        const charts = await google.colab.kernel.invokeFunction(\n",
              "            'suggestCharts', [key], {});\n",
              "      } catch (error) {\n",
              "        console.error('Error during call to suggestCharts:', error);\n",
              "      }\n",
              "      quickchartButtonEl.classList.remove('colab-df-spinner');\n",
              "      quickchartButtonEl.classList.add('colab-df-quickchart-complete');\n",
              "    }\n",
              "    (() => {\n",
              "      let quickchartButtonEl =\n",
              "        document.querySelector('#df-75e3718f-b075-4ca0-9eea-304ba5f2c37e button');\n",
              "      quickchartButtonEl.style.display =\n",
              "        google.colab.kernel.accessAllowed ? 'block' : 'none';\n",
              "    })();\n",
              "  </script>\n",
              "</div>\n",
              "    </div>\n",
              "  </div>\n"
            ]
          },
          "metadata": {},
          "execution_count": 58
        }
      ]
    },
    {
      "cell_type": "code",
      "source": [
        "# Memunculkan data variabel numerical\n",
        "var_num = df[[\"Code\", \"Year\", \"Total economic damage from natural disasters (US$)\"]]\n",
        "var_num"
      ],
      "metadata": {
        "colab": {
          "base_uri": "https://localhost:8080/",
          "height": 424
        },
        "id": "Zg4Quu8HeoEI",
        "outputId": "4b048c7d-6ed2-4ff5-ff7b-d250f7aa7dc2"
      },
      "execution_count": null,
      "outputs": [
        {
          "output_type": "execute_result",
          "data": {
            "text/plain": [
              "     Code  Year  Total economic damage from natural disasters (US$)\n",
              "0     NaN  1900                                           30000000 \n",
              "1     NaN  1901                                                  0 \n",
              "2     NaN  1902                                                  0 \n",
              "3     NaN  1903                                          480000000 \n",
              "4     NaN  1904                                                  0 \n",
              "..    ...   ...                                                ... \n",
              "556   NaN  2014                                          259000000 \n",
              "557   NaN  2015                                         3439820000 \n",
              "558   NaN  2016                                         6287000000 \n",
              "559   NaN  2017                                         1019000000 \n",
              "560   NaN  2018                                        22745000000 \n",
              "\n",
              "[561 rows x 3 columns]"
            ],
            "text/html": [
              "\n",
              "  <div id=\"df-d1657fcf-1bb9-4090-b881-9d9cfaa08903\" class=\"colab-df-container\">\n",
              "    <div>\n",
              "<style scoped>\n",
              "    .dataframe tbody tr th:only-of-type {\n",
              "        vertical-align: middle;\n",
              "    }\n",
              "\n",
              "    .dataframe tbody tr th {\n",
              "        vertical-align: top;\n",
              "    }\n",
              "\n",
              "    .dataframe thead th {\n",
              "        text-align: right;\n",
              "    }\n",
              "</style>\n",
              "<table border=\"1\" class=\"dataframe\">\n",
              "  <thead>\n",
              "    <tr style=\"text-align: right;\">\n",
              "      <th></th>\n",
              "      <th>Code</th>\n",
              "      <th>Year</th>\n",
              "      <th>Total economic damage from natural disasters (US$)</th>\n",
              "    </tr>\n",
              "  </thead>\n",
              "  <tbody>\n",
              "    <tr>\n",
              "      <th>0</th>\n",
              "      <td>NaN</td>\n",
              "      <td>1900</td>\n",
              "      <td>30000000</td>\n",
              "    </tr>\n",
              "    <tr>\n",
              "      <th>1</th>\n",
              "      <td>NaN</td>\n",
              "      <td>1901</td>\n",
              "      <td>0</td>\n",
              "    </tr>\n",
              "    <tr>\n",
              "      <th>2</th>\n",
              "      <td>NaN</td>\n",
              "      <td>1902</td>\n",
              "      <td>0</td>\n",
              "    </tr>\n",
              "    <tr>\n",
              "      <th>3</th>\n",
              "      <td>NaN</td>\n",
              "      <td>1903</td>\n",
              "      <td>480000000</td>\n",
              "    </tr>\n",
              "    <tr>\n",
              "      <th>4</th>\n",
              "      <td>NaN</td>\n",
              "      <td>1904</td>\n",
              "      <td>0</td>\n",
              "    </tr>\n",
              "    <tr>\n",
              "      <th>...</th>\n",
              "      <td>...</td>\n",
              "      <td>...</td>\n",
              "      <td>...</td>\n",
              "    </tr>\n",
              "    <tr>\n",
              "      <th>556</th>\n",
              "      <td>NaN</td>\n",
              "      <td>2014</td>\n",
              "      <td>259000000</td>\n",
              "    </tr>\n",
              "    <tr>\n",
              "      <th>557</th>\n",
              "      <td>NaN</td>\n",
              "      <td>2015</td>\n",
              "      <td>3439820000</td>\n",
              "    </tr>\n",
              "    <tr>\n",
              "      <th>558</th>\n",
              "      <td>NaN</td>\n",
              "      <td>2016</td>\n",
              "      <td>6287000000</td>\n",
              "    </tr>\n",
              "    <tr>\n",
              "      <th>559</th>\n",
              "      <td>NaN</td>\n",
              "      <td>2017</td>\n",
              "      <td>1019000000</td>\n",
              "    </tr>\n",
              "    <tr>\n",
              "      <th>560</th>\n",
              "      <td>NaN</td>\n",
              "      <td>2018</td>\n",
              "      <td>22745000000</td>\n",
              "    </tr>\n",
              "  </tbody>\n",
              "</table>\n",
              "<p>561 rows × 3 columns</p>\n",
              "</div>\n",
              "    <div class=\"colab-df-buttons\">\n",
              "\n",
              "  <div class=\"colab-df-container\">\n",
              "    <button class=\"colab-df-convert\" onclick=\"convertToInteractive('df-d1657fcf-1bb9-4090-b881-9d9cfaa08903')\"\n",
              "            title=\"Convert this dataframe to an interactive table.\"\n",
              "            style=\"display:none;\">\n",
              "\n",
              "  <svg xmlns=\"http://www.w3.org/2000/svg\" height=\"24px\" viewBox=\"0 -960 960 960\">\n",
              "    <path d=\"M120-120v-720h720v720H120Zm60-500h600v-160H180v160Zm220 220h160v-160H400v160Zm0 220h160v-160H400v160ZM180-400h160v-160H180v160Zm440 0h160v-160H620v160ZM180-180h160v-160H180v160Zm440 0h160v-160H620v160Z\"/>\n",
              "  </svg>\n",
              "    </button>\n",
              "\n",
              "  <style>\n",
              "    .colab-df-container {\n",
              "      display:flex;\n",
              "      gap: 12px;\n",
              "    }\n",
              "\n",
              "    .colab-df-convert {\n",
              "      background-color: #E8F0FE;\n",
              "      border: none;\n",
              "      border-radius: 50%;\n",
              "      cursor: pointer;\n",
              "      display: none;\n",
              "      fill: #1967D2;\n",
              "      height: 32px;\n",
              "      padding: 0 0 0 0;\n",
              "      width: 32px;\n",
              "    }\n",
              "\n",
              "    .colab-df-convert:hover {\n",
              "      background-color: #E2EBFA;\n",
              "      box-shadow: 0px 1px 2px rgba(60, 64, 67, 0.3), 0px 1px 3px 1px rgba(60, 64, 67, 0.15);\n",
              "      fill: #174EA6;\n",
              "    }\n",
              "\n",
              "    .colab-df-buttons div {\n",
              "      margin-bottom: 4px;\n",
              "    }\n",
              "\n",
              "    [theme=dark] .colab-df-convert {\n",
              "      background-color: #3B4455;\n",
              "      fill: #D2E3FC;\n",
              "    }\n",
              "\n",
              "    [theme=dark] .colab-df-convert:hover {\n",
              "      background-color: #434B5C;\n",
              "      box-shadow: 0px 1px 3px 1px rgba(0, 0, 0, 0.15);\n",
              "      filter: drop-shadow(0px 1px 2px rgba(0, 0, 0, 0.3));\n",
              "      fill: #FFFFFF;\n",
              "    }\n",
              "  </style>\n",
              "\n",
              "    <script>\n",
              "      const buttonEl =\n",
              "        document.querySelector('#df-d1657fcf-1bb9-4090-b881-9d9cfaa08903 button.colab-df-convert');\n",
              "      buttonEl.style.display =\n",
              "        google.colab.kernel.accessAllowed ? 'block' : 'none';\n",
              "\n",
              "      async function convertToInteractive(key) {\n",
              "        const element = document.querySelector('#df-d1657fcf-1bb9-4090-b881-9d9cfaa08903');\n",
              "        const dataTable =\n",
              "          await google.colab.kernel.invokeFunction('convertToInteractive',\n",
              "                                                    [key], {});\n",
              "        if (!dataTable) return;\n",
              "\n",
              "        const docLinkHtml = 'Like what you see? Visit the ' +\n",
              "          '<a target=\"_blank\" href=https://colab.research.google.com/notebooks/data_table.ipynb>data table notebook</a>'\n",
              "          + ' to learn more about interactive tables.';\n",
              "        element.innerHTML = '';\n",
              "        dataTable['output_type'] = 'display_data';\n",
              "        await google.colab.output.renderOutput(dataTable, element);\n",
              "        const docLink = document.createElement('div');\n",
              "        docLink.innerHTML = docLinkHtml;\n",
              "        element.appendChild(docLink);\n",
              "      }\n",
              "    </script>\n",
              "  </div>\n",
              "\n",
              "\n",
              "<div id=\"df-649b97e8-a331-463b-99bf-530016c68bb8\">\n",
              "  <button class=\"colab-df-quickchart\" onclick=\"quickchart('df-649b97e8-a331-463b-99bf-530016c68bb8')\"\n",
              "            title=\"Suggest charts.\"\n",
              "            style=\"display:none;\">\n",
              "\n",
              "<svg xmlns=\"http://www.w3.org/2000/svg\" height=\"24px\"viewBox=\"0 0 24 24\"\n",
              "     width=\"24px\">\n",
              "    <g>\n",
              "        <path d=\"M19 3H5c-1.1 0-2 .9-2 2v14c0 1.1.9 2 2 2h14c1.1 0 2-.9 2-2V5c0-1.1-.9-2-2-2zM9 17H7v-7h2v7zm4 0h-2V7h2v10zm4 0h-2v-4h2v4z\"/>\n",
              "    </g>\n",
              "</svg>\n",
              "  </button>\n",
              "\n",
              "<style>\n",
              "  .colab-df-quickchart {\n",
              "      --bg-color: #E8F0FE;\n",
              "      --fill-color: #1967D2;\n",
              "      --hover-bg-color: #E2EBFA;\n",
              "      --hover-fill-color: #174EA6;\n",
              "      --disabled-fill-color: #AAA;\n",
              "      --disabled-bg-color: #DDD;\n",
              "  }\n",
              "\n",
              "  [theme=dark] .colab-df-quickchart {\n",
              "      --bg-color: #3B4455;\n",
              "      --fill-color: #D2E3FC;\n",
              "      --hover-bg-color: #434B5C;\n",
              "      --hover-fill-color: #FFFFFF;\n",
              "      --disabled-bg-color: #3B4455;\n",
              "      --disabled-fill-color: #666;\n",
              "  }\n",
              "\n",
              "  .colab-df-quickchart {\n",
              "    background-color: var(--bg-color);\n",
              "    border: none;\n",
              "    border-radius: 50%;\n",
              "    cursor: pointer;\n",
              "    display: none;\n",
              "    fill: var(--fill-color);\n",
              "    height: 32px;\n",
              "    padding: 0;\n",
              "    width: 32px;\n",
              "  }\n",
              "\n",
              "  .colab-df-quickchart:hover {\n",
              "    background-color: var(--hover-bg-color);\n",
              "    box-shadow: 0 1px 2px rgba(60, 64, 67, 0.3), 0 1px 3px 1px rgba(60, 64, 67, 0.15);\n",
              "    fill: var(--button-hover-fill-color);\n",
              "  }\n",
              "\n",
              "  .colab-df-quickchart-complete:disabled,\n",
              "  .colab-df-quickchart-complete:disabled:hover {\n",
              "    background-color: var(--disabled-bg-color);\n",
              "    fill: var(--disabled-fill-color);\n",
              "    box-shadow: none;\n",
              "  }\n",
              "\n",
              "  .colab-df-spinner {\n",
              "    border: 2px solid var(--fill-color);\n",
              "    border-color: transparent;\n",
              "    border-bottom-color: var(--fill-color);\n",
              "    animation:\n",
              "      spin 1s steps(1) infinite;\n",
              "  }\n",
              "\n",
              "  @keyframes spin {\n",
              "    0% {\n",
              "      border-color: transparent;\n",
              "      border-bottom-color: var(--fill-color);\n",
              "      border-left-color: var(--fill-color);\n",
              "    }\n",
              "    20% {\n",
              "      border-color: transparent;\n",
              "      border-left-color: var(--fill-color);\n",
              "      border-top-color: var(--fill-color);\n",
              "    }\n",
              "    30% {\n",
              "      border-color: transparent;\n",
              "      border-left-color: var(--fill-color);\n",
              "      border-top-color: var(--fill-color);\n",
              "      border-right-color: var(--fill-color);\n",
              "    }\n",
              "    40% {\n",
              "      border-color: transparent;\n",
              "      border-right-color: var(--fill-color);\n",
              "      border-top-color: var(--fill-color);\n",
              "    }\n",
              "    60% {\n",
              "      border-color: transparent;\n",
              "      border-right-color: var(--fill-color);\n",
              "    }\n",
              "    80% {\n",
              "      border-color: transparent;\n",
              "      border-right-color: var(--fill-color);\n",
              "      border-bottom-color: var(--fill-color);\n",
              "    }\n",
              "    90% {\n",
              "      border-color: transparent;\n",
              "      border-bottom-color: var(--fill-color);\n",
              "    }\n",
              "  }\n",
              "</style>\n",
              "\n",
              "  <script>\n",
              "    async function quickchart(key) {\n",
              "      const quickchartButtonEl =\n",
              "        document.querySelector('#' + key + ' button');\n",
              "      quickchartButtonEl.disabled = true;  // To prevent multiple clicks.\n",
              "      quickchartButtonEl.classList.add('colab-df-spinner');\n",
              "      try {\n",
              "        const charts = await google.colab.kernel.invokeFunction(\n",
              "            'suggestCharts', [key], {});\n",
              "      } catch (error) {\n",
              "        console.error('Error during call to suggestCharts:', error);\n",
              "      }\n",
              "      quickchartButtonEl.classList.remove('colab-df-spinner');\n",
              "      quickchartButtonEl.classList.add('colab-df-quickchart-complete');\n",
              "    }\n",
              "    (() => {\n",
              "      let quickchartButtonEl =\n",
              "        document.querySelector('#df-649b97e8-a331-463b-99bf-530016c68bb8 button');\n",
              "      quickchartButtonEl.style.display =\n",
              "        google.colab.kernel.accessAllowed ? 'block' : 'none';\n",
              "    })();\n",
              "  </script>\n",
              "</div>\n",
              "    </div>\n",
              "  </div>\n"
            ]
          },
          "metadata": {},
          "execution_count": 59
        }
      ]
    },
    {
      "cell_type": "markdown",
      "source": [
        "# Barplot atau Bar Chart"
      ],
      "metadata": {
        "id": "5IiPWGfmYonj"
      }
    },
    {
      "cell_type": "markdown",
      "source": [
        "Barplot atau Bar Chart cocok digunakan untuk menunjukkan perbedaan atau persamaan antar nilai(values). Seperti, perbandingan total kerusakan ekonomi antar berbagai jenis bencana alam."
      ],
      "metadata": {
        "id": "442GY8lpY12z"
      }
    },
    {
      "cell_type": "markdown",
      "source": [
        "## Barplot Horizontal"
      ],
      "metadata": {
        "id": "bpHybywhuCCC"
      }
    },
    {
      "cell_type": "code",
      "source": [
        "# Menggunakan library yang diatas\n",
        "\n",
        "# Filter data untuk mendapatkan data tahun 2007\n",
        "year = df[df['Year'] == 2007]\n",
        "\n",
        "# Membuat bar plot horizontal\n",
        "plt.figure(figsize=(10, 5))\n",
        "plt.barh(year['Entity'], year['Total economic damage from natural disasters (US$)']) # Menggunakan 'barh' untuk bar plot horizontal\n",
        "plt.xlabel('Total Economic Damage (US$)')\n",
        "plt.ylabel('Entity')\n",
        "plt.title('Total Economic Damage from Natural Disasters in 2007')\n",
        "\n",
        "# Menampilkan plot\n",
        "plt.show()"
      ],
      "metadata": {
        "colab": {
          "base_uri": "https://localhost:8080/",
          "height": 487
        },
        "id": "NACfGwZQOaTN",
        "outputId": "636c1c2e-7c81-4653-ed07-a76017fad30e"
      },
      "execution_count": null,
      "outputs": [
        {
          "output_type": "display_data",
          "data": {
            "text/plain": [
              "<Figure size 1000x500 with 1 Axes>"
            ],
            "image/png": "[encoded data removed]"
          },
          "metadata": {}
        }
      ]
    },
    {
      "cell_type": "markdown",
      "source": [
        "Data visualisasi menampilkan bar chart yang membandingkan total kerusakan ekonomi akibat berbagai jenis bencana alam selama tahun 2007, diukur dalam mata uang dollar. Menurut data, 'All natural disasters' memiliki total kerusakan ekonomi tertinggi sebesar 74,420,257,000, sementara bencana alam 'Drought' menimbulkan total kerusakan ekonomi terendah sebesar 706,000,000. Dengan demikian, dapat disimpulkan bahwa pada tahun 2007, bencana kekeringan memiliki dampak ekonomi yang relatif kecil, berbeda dengan kerusakan ekonomi yang diakibatkan oleh jenis bencana alam lainnya. Analisis lebih lanjut dapat memberikan wawasan mendalam mengenai distribusi dampak ekonomi dari berbagai jenis bencana alam selama tahun tersebut."
      ],
      "metadata": {
        "id": "oyi3uAu1BZ0N"
      }
    },
    {
      "cell_type": "markdown",
      "source": [
        "## Barplot Vertikal"
      ],
      "metadata": {
        "id": "p-VeQefMYuuj"
      }
    },
    {
      "cell_type": "code",
      "source": [
        "# Menggunakan library yang diatas\n",
        "\n",
        "# Filter data untuk mendapatkan data bencana banjir 5 tahun terakhir\n",
        "banjir_lima_tahun = df[(df['Year'] >= df['Year'].max() - 4) & (df['Entity'] == 'Flood')]\n",
        "\n",
        "# Membuat bar plot vertikal\n",
        "plt.figure(figsize=(10, 4))\n",
        "plt.bar(banjir_lima_tahun['Year'], banjir_lima_tahun['Total economic damage from natural disasters (US$)']) # Menggunakan 'bar' untuk bar plot vertikal\n",
        "plt.xlabel('Year')\n",
        "plt.ylabel('Total Economic Damage (US$)')\n",
        "plt.title('Flood natural disasters of the last five years')\n",
        "\n",
        "# Menampilkan plot\n",
        "plt.show()"
      ],
      "metadata": {
        "colab": {
          "base_uri": "https://localhost:8080/",
          "height": 410
        },
        "id": "HdJauE0PwWSo",
        "outputId": "f950f6d3-2607-4279-f23c-ee8633f3e823"
      },
      "execution_count": null,
      "outputs": [
        {
          "output_type": "display_data",
          "data": {
            "text/plain": [
              "<Figure size 1000x400 with 1 Axes>"
            ],
            "image/png": "[encoded data removed]"
          },
          "metadata": {}
        }
      ]
    },
    {
      "cell_type": "markdown",
      "source": [
        "\n",
        "Data visualisasi menggambarkan bar chart yang membandingkan total kerusakan ekonomi akibat bencana alam banjir selama 5 tahun terakhir dari data yang tersedia. Dari data tersebut, terlihat bahwa terjadi penurunan jumlah bencana banjir dari tahun 2014 ke 2015, namun mengalami lonjakan pada tahun 2016. Setelah mencapai puncaknya pada tahun 2016, terjadi penurunan yang signifikan pada tahun berikutnya.\n",
        "\n",
        "Total kerusakan akibat banjir tertinggi pada tahun 2016, mencapai 57,382,350,000, sedangkan terendah terjadi pada tahun 2017, sebesar 15,778,682,000. Temuan ini memberikan wawasan bahwa tahun 2016 merupakan tahun dengan kerusakan ekonomi terparah akibat banjir, sementara tahun 2017 menunjukkan penurunan yang signifikan dalam hal dampak ekonomi dari bencana banjir. Analisis lebih lanjut perlu dilakukan untuk memahami faktor-faktor yang mempengaruhi fluktuasi ini dan mengambil langkah-langkah pencegahan yang tepat."
      ],
      "metadata": {
        "id": "YngMe9uIBMVb"
      }
    },
    {
      "cell_type": "markdown",
      "source": [
        "# Distplot"
      ],
      "metadata": {
        "id": "VBERz8XOfZao"
      }
    },
    {
      "cell_type": "markdown",
      "source": [
        "Distribusi Plot digunakan untuk memvisualisasikan sebaran dan pola distribusi data tunggal dalam bentuk plot. Ini termasuk histogram yang menunjukkan distribusi data serta kurva kepadatan kernel (kernel density estimate) yang memberikan perkiraan bentuk distribusi kontinu."
      ],
      "metadata": {
        "id": "dKPf0TAxQxy4"
      }
    },
    {
      "cell_type": "code",
      "source": [
        "# Menggunakan library yang diatas\n",
        "\n",
        "# Membuat distplot\n",
        "plt.figure(figsize=(10, 6))\n",
        "sns.displot(df['Total economic damage from natural disasters (US$)'], kde=True, bins=20) # Menggunakan 'displot' untuk plot distribusi\n",
        "plt.xlabel('Total Economic Damage (US$)')\n",
        "plt.ylabel('Density')\n",
        "plt.title('Distribution of Total Economic Damage from Natural Disasters')\n",
        "\n",
        "# Menampilkan plot\n",
        "plt.show()"
      ],
      "metadata": {
        "colab": {
          "base_uri": "https://localhost:8080/",
          "height": 542
        },
        "id": "gWNkvvpdUdi5",
        "outputId": "1e70a070-7b8c-4dda-97be-c016a523613a"
      },
      "execution_count": null,
      "outputs": [
        {
          "output_type": "display_data",
          "data": {
            "text/plain": [
              "<Figure size 1000x600 with 0 Axes>"
            ]
          },
          "metadata": {}
        },
        {
          "output_type": "display_data",
          "data": {
            "text/plain": [
              "<Figure size 500x500 with 1 Axes>"
            ],
            "image/png": "[encoded data removed]"
          },
          "metadata": {}
        }
      ]
    },
    {
      "cell_type": "markdown",
      "source": [
        "Hasil dari plot distribusi distplot ini memberikan wawasan mendalam tentang pola distribusi dan sebaran data kerusakan ekonomi akibat bencana alam dalam bentuk histogram, serta kontur (KDE) yang memberikan estimasi kepadatan probabilitas. Analisis distribusi menunjukkan mayoritas tahun memiliki kerusakan ekonomi rendah hingga mendekati nol, dengan lonjakan pada beberapa tahun yang mengalami kerusakan ekonomi yang signifikan. Interpretasi data menegaskan bahwa sebagian besar tahun mengalami kerusakan ekonomi yang rendah, mungkin karena minimnya bencana alam yang signifikan. Namun, ada beberapa tahun dengan tingkat kerusakan ekonomi yang tinggi, mengindikasikan kemungkinan terjadinya bencana alam besar dengan dampak ekonomi yang signifikan pada tahun-tahun tersebut. Informasi ini penting dalam menganalisis data untuk memahami distribusi dan karakteristik dari total kerusakan ekonomi akibat bencana alam serta dapat membantu dalam perencanaan mitigasi dan manajemen risiko di masa depan."
      ],
      "metadata": {
        "id": "f2ySzezT-NG1"
      }
    },
    {
      "cell_type": "markdown",
      "source": [
        "# Boxplot"
      ],
      "metadata": {
        "id": "J6FpPQhU9O8K"
      }
    },
    {
      "cell_type": "markdown",
      "source": [
        "Box plot digunakan untuk mengidentifikasi nilai-nilai ekstrim (outliers) dalam suatu dataset. Tujuan utama dari box plot adalah untuk menyajikan ringkasan distribusi statistik, seperti kuartil, median, dan penyebaran data."
      ],
      "metadata": {
        "id": "GWY5VpMuRmzq"
      }
    },
    {
      "cell_type": "code",
      "source": [
        "# Filter data untuk kategori 'Flood' dengan total ekonomi lebih dari 0\n",
        "data_filtered = df[(df['Entity'] == 'Flood') & (df['Total economic damage from natural disasters (US$)'] > 0)]\n",
        "\n",
        "# Membuat boxplot\n",
        "plt.figure(figsize=(10, 6))\n",
        "plt.boxplot(data_filtered['Total economic damage from natural disasters (US$)'], vert=False)  # Menggunakan 'boxplot' untuk membuat boxplot\n",
        "plt.xlabel('Total economic damage (US$)')\n",
        "plt.title('Total Economic Damage from Flood Natural Disasters')\n",
        "\n",
        "# Menampilkan plot\n",
        "plt.show()"
      ],
      "metadata": {
        "colab": {
          "base_uri": "https://localhost:8080/",
          "height": 564
        },
        "id": "KZluzFpbSod9",
        "outputId": "2a919fb0-12c5-45e6-8489-1fe3657062fa"
      },
      "execution_count": null,
      "outputs": [
        {
          "output_type": "display_data",
          "data": {
            "text/plain": [
              "<Figure size 1000x600 with 1 Axes>"
            ],
            "image/png": "[encoded data removed]"
          },
          "metadata": {}
        }
      ]
    },
    {
      "cell_type": "markdown",
      "source": [
        "Hasil dari boxplot ini memberikan wawasan tentang distribusi dan statistik deskriptif terkait total kerusakan ekonomi akibat bencana alam banjir. Boxplot membantu dalam memahami pola distribusi data, identifikasi outlier, serta statistik lainnya seperti kuartil dan median. Ini penting dalam analisis data untuk memahami karakteristik dan distribusi dampak ekonomi yang disebabkan oleh bencana alam banjir.\n",
        "\n",
        "Dari data total kerusakkan ekonomi akibat banjir, median atau nilai tengah (50 percentile) adalah 3,801,950,000. Dengan kuartil 1 (25 percentile) = 556,300,000 dan kuartil 3 (75 percentile) = 17,939,670,000. Nilai minimum sebesar 230,000 dan nilai maksmimum sebesar 70,757,047,000.\n",
        "\n",
        "Terdapat maksimum outlier yang total kerusakkan ekonomi, batas atas (Q3 + 1.5IQR) = 44,014,725,000 dan batas bawah (Q1 - 1.5IQR) = -25,518,755,000."
      ],
      "metadata": {
        "id": "1A0BFwE3_Qi9"
      }
    },
    {
      "cell_type": "markdown",
      "source": [
        "# Scatterplot"
      ],
      "metadata": {
        "id": "VSMiy74u9TpC"
      }
    },
    {
      "cell_type": "markdown",
      "source": [
        "Scatter Plot cocok digunakan untuk menunjukkan hubungan dan korelasi antar dua variabel atau lebih dalam data. Seperti, total kerusakkan ekonomi karena bencana alam per tahunnya."
      ],
      "metadata": {
        "id": "NHupqzhwRrzZ"
      }
    },
    {
      "cell_type": "code",
      "source": [
        "# Filter data untuk mendapatkan data bencana alam kekeringan\n",
        "entitas = df[df['Entity'] == 'Drought']\n",
        "\n",
        "# Membuat scatter plot\n",
        "plt.figure(figsize=(10, 6))\n",
        "plt.scatter(entitas['Year'], entitas['Total economic damage from natural disasters (US$)'])  # Menggunakan 'scatter' untuk membuat scatter plot\n",
        "plt.xlabel('Year')\n",
        "plt.ylabel('Total Economic Damage (US$)')\n",
        "plt.title('Total Economic Damage from drought per Year')\n",
        "plt.grid(True)  # Menampilkan grid\n",
        "\n",
        "# Menampilkan plot\n",
        "plt.show()"
      ],
      "metadata": {
        "colab": {
          "base_uri": "https://localhost:8080/",
          "height": 564
        },
        "id": "pPND-F9cL_jK",
        "outputId": "535e9b36-d0b4-4f42-f3e1-9e66e274cfa6"
      },
      "execution_count": null,
      "outputs": [
        {
          "output_type": "display_data",
          "data": {
            "text/plain": [
              "<Figure size 1000x600 with 1 Axes>"
            ],
            "image/png": "[encoded data removed]"
          },
          "metadata": {}
        }
      ]
    },
    {
      "cell_type": "markdown",
      "source": [
        "Hasil dari scatter plot ini memberikan wawasan mengenai korelasi antara tahun dan total kerusakan ekonomi akibat bencana alam kekeringan. Dalam plot ini, kita dapat menganalisis pola dan tren apakah terjadi peningkatan atau penurunan kerusakan ekonomi dari tahun ke tahun. Analisis ini membantu kita memahami dampak bencana alam kekeringan terhadap ekonomi selama periode yang diteliti.\n",
        "\n",
        "Data mengindikasikan bahwa sebelum tahun 2010, pola atau persebaran kerusakan ekonomi akibat kekeringan cenderung sering terjadi, namun jumlah kerusakannya relatif kecil. Di antara tahun 2010 hingga 2020, tepatnya pada tahun 2012, tercatat kerusakan ekonomi akibat kekeringan dengan total terbesar, mencapai 25,480,000,000. Hal ini memberi informasi penting mengenai tahun dan rentang waktu di mana dampak ekonomi dari bencana alam kekeringan mencapai puncaknya, yang dapat membimbing kebijakan mitigasi dan adaptasi di masa mendatang."
      ],
      "metadata": {
        "id": "ywIP6_u7-Lu4"
      }
    },
    {
      "cell_type": "markdown",
      "source": [
        "# Pie Chart"
      ],
      "metadata": {
        "id": "irAlH-HP9XAY"
      }
    },
    {
      "cell_type": "markdown",
      "source": [
        "Pie Chart dapat digunakan untuk menunjukkan komposisi satu variabel atau lebih dalam bilangan absolut atau persentase."
      ],
      "metadata": {
        "id": "nEVQha6kT6uo"
      }
    },
    {
      "cell_type": "code",
      "source": [
        "# Filter data untuk mendapatkan data tahun 1945 dan total kerusakan ekonomi akibat bencana alam lebih dari 0\n",
        "year_damage = df[(df['Year'] == 1945) & (df['Total economic damage from natural disasters (US$)'] > 0)]\n",
        "\n",
        "# Menghitung total ekonomi dari bencana alam per entitas untuk tahun 1945\n",
        "grup_total = year_damage.groupby('Entity')['Total economic damage from natural disasters (US$)'].sum()\n",
        "\n",
        "# Membuat pie chart\n",
        "plt.figure(figsize=(5, 6))\n",
        "plt.pie(grup_total, labels=grup_total.index, autopct='%1.1f%%') # Menggunakan 'pie' untuk membuat pie chart\n",
        "plt.axis('equal')  # Memastikan pie chart berbentuk lingkaran\n",
        "plt.title('Total Economic Damage from Natural Disasters in 1945 by Entity')\n",
        "plt.legend(grup_total, loc='upper left')  # Menggunakan 'loc' untuk memposisikan label dari legend\n",
        "\n",
        "# Menampilkan plot\n",
        "plt.show()"
      ],
      "metadata": {
        "colab": {
          "base_uri": "https://localhost:8080/",
          "height": 521
        },
        "id": "SHMUg5HEq9qy",
        "outputId": "77d7b30c-a82c-45f6-ab82-11a5d49af7a3"
      },
      "execution_count": null,
      "outputs": [
        {
          "output_type": "display_data",
          "data": {
            "text/plain": [
              "<Figure size 500x600 with 1 Axes>"
            ],
            "image/png": "[encoded data removed]"
          },
          "metadata": {}
        }
      ]
    },
    {
      "cell_type": "markdown",
      "source": [
        "Data visualisasi mempresentasikan komposisi pie chart mengenai total kerusakan ekonomi akibat bencana alam pada tahun 1945. Setelah proses pengelompokan data, teridentifikasi tiga jenis bencana alam yang memiliki dampak kerusakan ekonomi, yaitu 'All Natural Disasters' dengan proporsi 50.0%, 'Extreme Weather' dengan proporsi 41.7%, dan 'Volcanic Activity' dengan proporsi 8.3%.\n",
        "\n",
        "Penting untuk dicatat bahwa 'All Natural Disasters' memiliki proporsi yang jauh lebih besar dibandingkan dengan jenis bencana alam lainnya, mencapai 50.0% atau setara dengan 480,000,000. Sebaliknya, proporsi terkecil terdapat pada 'Volcanic Activity' dengan persentase 8.3% atau setara dengan 80,000,000. Temuan ini menunjukkan dominasi kontribusi kerusakan ekonomi yang diakibatkan oleh berbagai jenis bencana alam pada tahun 1945, memberikan perspektif penting untuk fokus dan strategi mitigasi yang sesuai."
      ],
      "metadata": {
        "id": "GRBztlMy8uAV"
      }
    }
  ]
}